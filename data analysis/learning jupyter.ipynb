{
 "cells": [
  {
   "cell_type": "code",
   "execution_count": 5,
   "metadata": {},
   "outputs": [
    {
     "name": "stdout",
     "output_type": "stream",
     "text": [
      "Hello Abby\n"
     ]
    }
   ],
   "source": [
    "print(\"Hello Abby\") # use shif + enter to print immediately \n"
   ]
  },
  {
   "cell_type": "code",
   "execution_count": 6,
   "metadata": {},
   "outputs": [
    {
     "name": "stdout",
     "output_type": "stream",
     "text": [
      "h\n",
      "e\n",
      "l\n",
      "l\n",
      "o\n",
      ",\n",
      " \n",
      "A\n",
      "b\n",
      "b\n",
      "y\n"
     ]
    }
   ],
   "source": [
    "for letter in \"hello, Abby\": \n",
    "    print(letter)  # cell in Jupyter contain text rather than code."
   ]
  },
  {
   "cell_type": "markdown",
   "metadata": {},
   "source": [
    "# in this cell, I changed the cell type to markdown.Markdown is a text format that can do basic formating, bold, italic,bullet points, hyperlinks, and even mathematical formulas.\n",
    "http://google.com\n"
   ]
  }
 ],
 "metadata": {
  "kernelspec": {
   "display_name": "Python 3.11.0 64-bit",
   "language": "python",
   "name": "python3"
  },
  "language_info": {
   "codemirror_mode": {
    "name": "ipython",
    "version": 3
   },
   "file_extension": ".py",
   "mimetype": "text/x-python",
   "name": "python",
   "nbconvert_exporter": "python",
   "pygments_lexer": "ipython3",
   "version": "3.11.0"
  },
  "orig_nbformat": 4,
  "vscode": {
   "interpreter": {
    "hash": "5a98ec1e5eb58ccfc2c62309fde32563726bf06a55930598069e48979579b60f"
   }
  }
 },
 "nbformat": 4,
 "nbformat_minor": 2
}
